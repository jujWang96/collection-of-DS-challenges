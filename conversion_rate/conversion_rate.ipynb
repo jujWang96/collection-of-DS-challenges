{
 "cells": [
  {
   "cell_type": "code",
   "execution_count": 1,
   "metadata": {},
   "outputs": [],
   "source": [
    "import pandas as pd\n",
    "import numpy as np\n",
    "import plotnine\n",
    "from plotnine import ggplot, geom_bar, geom_point, aes, stat_smooth, facet_wrap\n",
    "import sklearn\n",
    "import numpy as np\n",
    "from sklearn.model_selection import train_test_split\n",
    "from imblearn.over_sampling import SMOTE \n",
    "from sklearn.linear_model import LogisticRegression\n",
    "from sklearn import preprocessing\n",
    "import statsmodels.api as sm\n",
    "from sklearn.metrics import confusion_matrix\n",
    "from sklearn.metrics import classification_report\n",
    "from sklearn.metrics import roc_auc_score\n",
    "from sklearn.metrics import roc_curve\n",
    "import matplotlib.pyplot as plt\n",
    "from sklearn.pipeline import make_pipeline\n",
    "from sklearn.preprocessing import StandardScaler\n"
   ]
  },
  {
   "cell_type": "code",
   "execution_count": 2,
   "metadata": {},
   "outputs": [],
   "source": [
    "df = pd.read_csv('../Data/conversion_project.csv')"
   ]
  },
  {
   "cell_type": "code",
   "execution_count": 3,
   "metadata": {},
   "outputs": [
    {
     "name": "stdout",
     "output_type": "stream",
     "text": [
      "<class 'pandas.core.frame.DataFrame'>\n",
      "RangeIndex: 316200 entries, 0 to 316199\n",
      "Data columns (total 6 columns):\n",
      " #   Column               Non-Null Count   Dtype \n",
      "---  ------               --------------   ----- \n",
      " 0   country              316200 non-null  object\n",
      " 1   age                  316200 non-null  int64 \n",
      " 2   new_user             316200 non-null  int64 \n",
      " 3   source               316200 non-null  object\n",
      " 4   total_pages_visited  316200 non-null  int64 \n",
      " 5   converted            316200 non-null  int64 \n",
      "dtypes: int64(4), object(2)\n",
      "memory usage: 14.5+ MB\n"
     ]
    }
   ],
   "source": [
    "df.info()"
   ]
  },
  {
   "cell_type": "code",
   "execution_count": 4,
   "metadata": {},
   "outputs": [],
   "source": [
    "df = df.astype({'converted':object,'new_user':object})"
   ]
  },
  {
   "cell_type": "code",
   "execution_count": 5,
   "metadata": {},
   "outputs": [
    {
     "data": {
      "text/html": [
       "<div>\n",
       "<style scoped>\n",
       "    .dataframe tbody tr th:only-of-type {\n",
       "        vertical-align: middle;\n",
       "    }\n",
       "\n",
       "    .dataframe tbody tr th {\n",
       "        vertical-align: top;\n",
       "    }\n",
       "\n",
       "    .dataframe thead th {\n",
       "        text-align: right;\n",
       "    }\n",
       "</style>\n",
       "<table border=\"1\" class=\"dataframe\">\n",
       "  <thead>\n",
       "    <tr style=\"text-align: right;\">\n",
       "      <th></th>\n",
       "      <th>country</th>\n",
       "      <th>age</th>\n",
       "      <th>new_user</th>\n",
       "      <th>source</th>\n",
       "      <th>total_pages_visited</th>\n",
       "      <th>converted</th>\n",
       "    </tr>\n",
       "  </thead>\n",
       "  <tbody>\n",
       "    <tr>\n",
       "      <th>0</th>\n",
       "      <td>UK</td>\n",
       "      <td>25</td>\n",
       "      <td>1</td>\n",
       "      <td>Ads</td>\n",
       "      <td>1</td>\n",
       "      <td>0</td>\n",
       "    </tr>\n",
       "    <tr>\n",
       "      <th>1</th>\n",
       "      <td>US</td>\n",
       "      <td>23</td>\n",
       "      <td>1</td>\n",
       "      <td>Seo</td>\n",
       "      <td>5</td>\n",
       "      <td>0</td>\n",
       "    </tr>\n",
       "    <tr>\n",
       "      <th>2</th>\n",
       "      <td>US</td>\n",
       "      <td>28</td>\n",
       "      <td>1</td>\n",
       "      <td>Seo</td>\n",
       "      <td>4</td>\n",
       "      <td>0</td>\n",
       "    </tr>\n",
       "    <tr>\n",
       "      <th>3</th>\n",
       "      <td>China</td>\n",
       "      <td>39</td>\n",
       "      <td>1</td>\n",
       "      <td>Seo</td>\n",
       "      <td>5</td>\n",
       "      <td>0</td>\n",
       "    </tr>\n",
       "    <tr>\n",
       "      <th>4</th>\n",
       "      <td>US</td>\n",
       "      <td>30</td>\n",
       "      <td>1</td>\n",
       "      <td>Seo</td>\n",
       "      <td>6</td>\n",
       "      <td>0</td>\n",
       "    </tr>\n",
       "  </tbody>\n",
       "</table>\n",
       "</div>"
      ],
      "text/plain": [
       "  country  age new_user source  total_pages_visited converted\n",
       "0      UK   25        1    Ads                    1         0\n",
       "1      US   23        1    Seo                    5         0\n",
       "2      US   28        1    Seo                    4         0\n",
       "3   China   39        1    Seo                    5         0\n",
       "4      US   30        1    Seo                    6         0"
      ]
     },
     "execution_count": 5,
     "metadata": {},
     "output_type": "execute_result"
    }
   ],
   "source": [
    "df.head()"
   ]
  },
  {
   "cell_type": "markdown",
   "metadata": {},
   "source": [
    "## Explortary data analysis"
   ]
  },
  {
   "cell_type": "code",
   "execution_count": 6,
   "metadata": {},
   "outputs": [],
   "source": [
    "df = df.astype({'converted':int})\n",
    "country_df = df[['country','converted']].groupby(by = 'country').mean()\n",
    "country_df.rename(columns = {'converted':'conversion_rate'},inplace = True)"
   ]
  },
  {
   "cell_type": "code",
   "execution_count": 7,
   "metadata": {},
   "outputs": [
    {
     "data": {
      "text/html": [
       "<div>\n",
       "<style scoped>\n",
       "    .dataframe tbody tr th:only-of-type {\n",
       "        vertical-align: middle;\n",
       "    }\n",
       "\n",
       "    .dataframe tbody tr th {\n",
       "        vertical-align: top;\n",
       "    }\n",
       "\n",
       "    .dataframe thead th {\n",
       "        text-align: right;\n",
       "    }\n",
       "</style>\n",
       "<table border=\"1\" class=\"dataframe\">\n",
       "  <thead>\n",
       "    <tr style=\"text-align: right;\">\n",
       "      <th></th>\n",
       "      <th>conversion_rate</th>\n",
       "    </tr>\n",
       "    <tr>\n",
       "      <th>country</th>\n",
       "      <th></th>\n",
       "    </tr>\n",
       "  </thead>\n",
       "  <tbody>\n",
       "    <tr>\n",
       "      <th>China</th>\n",
       "      <td>0.001332</td>\n",
       "    </tr>\n",
       "    <tr>\n",
       "      <th>Germany</th>\n",
       "      <td>0.062500</td>\n",
       "    </tr>\n",
       "    <tr>\n",
       "      <th>UK</th>\n",
       "      <td>0.052632</td>\n",
       "    </tr>\n",
       "    <tr>\n",
       "      <th>US</th>\n",
       "      <td>0.037801</td>\n",
       "    </tr>\n",
       "  </tbody>\n",
       "</table>\n",
       "</div>"
      ],
      "text/plain": [
       "         conversion_rate\n",
       "country                 \n",
       "China           0.001332\n",
       "Germany         0.062500\n",
       "UK              0.052632\n",
       "US              0.037801"
      ]
     },
     "execution_count": 7,
     "metadata": {},
     "output_type": "execute_result"
    }
   ],
   "source": [
    "country_df"
   ]
  },
  {
   "cell_type": "code",
   "execution_count": 8,
   "metadata": {},
   "outputs": [
    {
     "data": {
      "image/png": "[encoded data removed]",
      "text/plain": [
       "<Figure size 640x480 with 1 Axes>"
      ]
     },
     "metadata": {},
     "output_type": "display_data"
    },
    {
     "data": {
      "text/plain": [
       "<ggplot: (8790568634985)>"
      ]
     },
     "execution_count": 8,
     "metadata": {},
     "output_type": "execute_result"
    }
   ],
   "source": [
    "country_df.reset_index(inplace = True)\n",
    "ggplot(country_df,aes(x = 'country',y = 'conversion_rate'))+geom_bar(stat = \"identity\")"
   ]
  },
  {
   "cell_type": "markdown",
   "metadata": {},
   "source": [
    "It seems like users from China have a much lower conversion rate. "
   ]
  },
  {
   "cell_type": "code",
   "execution_count": null,
   "metadata": {},
   "outputs": [],
   "source": []
  },
  {
   "cell_type": "code",
   "execution_count": 9,
   "metadata": {},
   "outputs": [
    {
     "data": {
      "image/png": "[encoded data removed]",
      "text/plain": [
       "<Figure size 640x480 with 1 Axes>"
      ]
     },
     "metadata": {},
     "output_type": "display_data"
    },
    {
     "data": {
      "text/plain": [
       "<ggplot: (8790568641489)>"
      ]
     },
     "execution_count": 9,
     "metadata": {},
     "output_type": "execute_result"
    }
   ],
   "source": [
    "df = df.astype({'converted':object})\n",
    "boxplot = ggplot(data = df , mapping = aes(x = 'converted', y = 'age'))\n",
    "(boxplot+ plotnine.geom_boxplot())"
   ]
  },
  {
   "cell_type": "markdown",
   "metadata": {},
   "source": [
    "In general, the converted users have a smaller median age than the nonconverted ones. It seems we have some outliers in age that does not make much sense. We can delete the observation therefore.  "
   ]
  },
  {
   "cell_type": "code",
   "execution_count": 10,
   "metadata": {},
   "outputs": [],
   "source": [
    "df = df[df['age']<100]"
   ]
  },
  {
   "cell_type": "code",
   "execution_count": 11,
   "metadata": {},
   "outputs": [],
   "source": [
    "df = df.astype({'converted':int})\n",
    "\n",
    "age_df = df[['age','converted']].groupby(by = 'age').mean()\n",
    "age_df.rename(columns = {'converted':'conversion_rate'},inplace = True)\n",
    "age_df.reset_index(inplace = True)"
   ]
  },
  {
   "cell_type": "code",
   "execution_count": 12,
   "metadata": {},
   "outputs": [
    {
     "data": {
      "text/html": [
       "<div>\n",
       "<style scoped>\n",
       "    .dataframe tbody tr th:only-of-type {\n",
       "        vertical-align: middle;\n",
       "    }\n",
       "\n",
       "    .dataframe tbody tr th {\n",
       "        vertical-align: top;\n",
       "    }\n",
       "\n",
       "    .dataframe thead th {\n",
       "        text-align: right;\n",
       "    }\n",
       "</style>\n",
       "<table border=\"1\" class=\"dataframe\">\n",
       "  <thead>\n",
       "    <tr style=\"text-align: right;\">\n",
       "      <th></th>\n",
       "      <th>age</th>\n",
       "      <th>conversion_rate</th>\n",
       "    </tr>\n",
       "  </thead>\n",
       "  <tbody>\n",
       "    <tr>\n",
       "      <th>0</th>\n",
       "      <td>17</td>\n",
       "      <td>0.071607</td>\n",
       "    </tr>\n",
       "    <tr>\n",
       "      <th>1</th>\n",
       "      <td>18</td>\n",
       "      <td>0.066029</td>\n",
       "    </tr>\n",
       "    <tr>\n",
       "      <th>2</th>\n",
       "      <td>19</td>\n",
       "      <td>0.058616</td>\n",
       "    </tr>\n",
       "    <tr>\n",
       "      <th>3</th>\n",
       "      <td>20</td>\n",
       "      <td>0.057109</td>\n",
       "    </tr>\n",
       "    <tr>\n",
       "      <th>4</th>\n",
       "      <td>21</td>\n",
       "      <td>0.053985</td>\n",
       "    </tr>\n",
       "  </tbody>\n",
       "</table>\n",
       "</div>"
      ],
      "text/plain": [
       "   age  conversion_rate\n",
       "0   17         0.071607\n",
       "1   18         0.066029\n",
       "2   19         0.058616\n",
       "3   20         0.057109\n",
       "4   21         0.053985"
      ]
     },
     "execution_count": 12,
     "metadata": {},
     "output_type": "execute_result"
    }
   ],
   "source": [
    "age_df.head()"
   ]
  },
  {
   "cell_type": "code",
   "execution_count": 13,
   "metadata": {},
   "outputs": [
    {
     "data": {
      "text/plain": [
       "[<matplotlib.lines.Line2D at 0x7feb599280d0>]"
      ]
     },
     "execution_count": 13,
     "metadata": {},
     "output_type": "execute_result"
    },
    {
     "data": {
      "image/png": "[encoded data removed]",
      "text/plain": [
       "<Figure size 432x288 with 1 Axes>"
      ]
     },
     "metadata": {
      "needs_background": "light"
     },
     "output_type": "display_data"
    }
   ],
   "source": [
    "plt.plot(age_df['age'], age_df['conversion_rate'])"
   ]
  },
  {
   "cell_type": "markdown",
   "metadata": {},
   "source": [
    "The conversion rate decreases as age increases but has a bump up around age 60.  "
   ]
  },
  {
   "cell_type": "code",
   "execution_count": 14,
   "metadata": {},
   "outputs": [
    {
     "data": {
      "image/png": "[encoded data removed]",
      "text/plain": [
       "<Figure size 640x480 with 1 Axes>"
      ]
     },
     "metadata": {},
     "output_type": "display_data"
    },
    {
     "data": {
      "text/plain": [
       "<ggplot: (8790549855617)>"
      ]
     },
     "execution_count": 14,
     "metadata": {},
     "output_type": "execute_result"
    }
   ],
   "source": [
    "df = df.astype({'converted':object})\n",
    "\n",
    "bar_plot = ggplot(data = df , mapping = aes(x = 'source'))\n",
    "\n",
    "(bar_plot+geom_bar(aes(fill = 'converted'),position='fill',stat = 'count')\n",
    " +plotnine.scale_fill_manual(values=[\"#69b3a2\", \"#404080\"]))"
   ]
  },
  {
   "cell_type": "code",
   "execution_count": 15,
   "metadata": {},
   "outputs": [
    {
     "data": {
      "text/plain": [
       "[<matplotlib.lines.Line2D at 0x7feb59a02710>]"
      ]
     },
     "execution_count": 15,
     "metadata": {},
     "output_type": "execute_result"
    },
    {
     "data": {
      "image/png": "[encoded data removed]",
      "text/plain": [
       "<Figure size 432x288 with 1 Axes>"
      ]
     },
     "metadata": {
      "needs_background": "light"
     },
     "output_type": "display_data"
    }
   ],
   "source": [
    "df = df.astype({'converted':int})\n",
    "page_df = df[['total_pages_visited','converted']].groupby(by = 'total_pages_visited').mean()\n",
    "page_df.rename(columns = {'converted':'conversion_rate'},inplace = True)\n",
    "page_df.reset_index(inplace = True)\n",
    "plt.plot(page_df['total_pages_visited'], page_df['conversion_rate'])"
   ]
  },
  {
   "cell_type": "markdown",
   "metadata": {},
   "source": [
    "The conversion rate increases at the number of pages viewed increases. "
   ]
  },
  {
   "cell_type": "code",
   "execution_count": 16,
   "metadata": {},
   "outputs": [
    {
     "data": {
      "image/png": "[encoded data removed]",
      "text/plain": [
       "<Figure size 640x480 with 1 Axes>"
      ]
     },
     "metadata": {},
     "output_type": "display_data"
    },
    {
     "data": {
      "text/plain": [
       "<ggplot: (8790568630985)>"
      ]
     },
     "execution_count": 16,
     "metadata": {},
     "output_type": "execute_result"
    }
   ],
   "source": [
    "df = df.astype({'converted':int})\n",
    "user_df = df[['new_user','converted']].groupby(by = 'new_user').mean()\n",
    "user_df.rename(columns = {'converted':'conversion_rate'},inplace = True)\n",
    "user_df.reset_index(inplace = True)\n",
    "ggplot(user_df,aes(x = 'new_user',y = 'conversion_rate'))+geom_bar(stat = \"identity\")\n"
   ]
  },
  {
   "cell_type": "markdown",
   "metadata": {},
   "source": [
    "It is obvious that old users have a much higher conversion rate than new users"
   ]
  },
  {
   "cell_type": "markdown",
   "metadata": {},
   "source": [
    "From the eda, we know that source is not relavant to convertion rate, while other inforamtin are somehow correlated with the convertion rate. Thus we can start feature engineering with the relavant metrics picked. "
   ]
  },
  {
   "cell_type": "code",
   "execution_count": 17,
   "metadata": {},
   "outputs": [
    {
     "data": {
      "text/plain": [
       "Index(['age', 'converted', 'country', 'new_user', 'total_pages_visited'], dtype='object')"
      ]
     },
     "execution_count": 17,
     "metadata": {},
     "output_type": "execute_result"
    }
   ],
   "source": [
    "feature = df.columns.difference(['source'])\n",
    "feature"
   ]
  },
  {
   "cell_type": "code",
   "execution_count": 18,
   "metadata": {},
   "outputs": [],
   "source": [
    "df_encode = pd.DataFrame(pd.concat([df[['age','total_pages_visited','converted','new_user']]\n",
    "                                    ,pd.get_dummies(df[['country']])],axis = 1))"
   ]
  },
  {
   "cell_type": "markdown",
   "metadata": {},
   "source": [
    "scale the age and total page visited to within (0,1) range"
   ]
  },
  {
   "cell_type": "code",
   "execution_count": 19,
   "metadata": {},
   "outputs": [
    {
     "data": {
      "text/html": [
       "<div>\n",
       "<style scoped>\n",
       "    .dataframe tbody tr th:only-of-type {\n",
       "        vertical-align: middle;\n",
       "    }\n",
       "\n",
       "    .dataframe tbody tr th {\n",
       "        vertical-align: top;\n",
       "    }\n",
       "\n",
       "    .dataframe thead th {\n",
       "        text-align: right;\n",
       "    }\n",
       "</style>\n",
       "<table border=\"1\" class=\"dataframe\">\n",
       "  <thead>\n",
       "    <tr style=\"text-align: right;\">\n",
       "      <th></th>\n",
       "      <th>age</th>\n",
       "      <th>total_pages_visited</th>\n",
       "      <th>converted</th>\n",
       "      <th>new_user</th>\n",
       "      <th>country_China</th>\n",
       "      <th>country_Germany</th>\n",
       "      <th>country_UK</th>\n",
       "      <th>country_US</th>\n",
       "    </tr>\n",
       "  </thead>\n",
       "  <tbody>\n",
       "    <tr>\n",
       "      <th>0</th>\n",
       "      <td>25</td>\n",
       "      <td>1</td>\n",
       "      <td>0</td>\n",
       "      <td>1</td>\n",
       "      <td>0</td>\n",
       "      <td>0</td>\n",
       "      <td>1</td>\n",
       "      <td>0</td>\n",
       "    </tr>\n",
       "    <tr>\n",
       "      <th>1</th>\n",
       "      <td>23</td>\n",
       "      <td>5</td>\n",
       "      <td>0</td>\n",
       "      <td>1</td>\n",
       "      <td>0</td>\n",
       "      <td>0</td>\n",
       "      <td>0</td>\n",
       "      <td>1</td>\n",
       "    </tr>\n",
       "    <tr>\n",
       "      <th>2</th>\n",
       "      <td>28</td>\n",
       "      <td>4</td>\n",
       "      <td>0</td>\n",
       "      <td>1</td>\n",
       "      <td>0</td>\n",
       "      <td>0</td>\n",
       "      <td>0</td>\n",
       "      <td>1</td>\n",
       "    </tr>\n",
       "    <tr>\n",
       "      <th>3</th>\n",
       "      <td>39</td>\n",
       "      <td>5</td>\n",
       "      <td>0</td>\n",
       "      <td>1</td>\n",
       "      <td>1</td>\n",
       "      <td>0</td>\n",
       "      <td>0</td>\n",
       "      <td>0</td>\n",
       "    </tr>\n",
       "    <tr>\n",
       "      <th>4</th>\n",
       "      <td>30</td>\n",
       "      <td>6</td>\n",
       "      <td>0</td>\n",
       "      <td>1</td>\n",
       "      <td>0</td>\n",
       "      <td>0</td>\n",
       "      <td>0</td>\n",
       "      <td>1</td>\n",
       "    </tr>\n",
       "  </tbody>\n",
       "</table>\n",
       "</div>"
      ],
      "text/plain": [
       "   age  total_pages_visited  converted new_user  country_China  \\\n",
       "0   25                    1          0        1              0   \n",
       "1   23                    5          0        1              0   \n",
       "2   28                    4          0        1              0   \n",
       "3   39                    5          0        1              1   \n",
       "4   30                    6          0        1              0   \n",
       "\n",
       "   country_Germany  country_UK  country_US  \n",
       "0                0           1           0  \n",
       "1                0           0           1  \n",
       "2                0           0           1  \n",
       "3                0           0           0  \n",
       "4                0           0           1  "
      ]
     },
     "execution_count": 19,
     "metadata": {},
     "output_type": "execute_result"
    }
   ],
   "source": [
    "df_encode.head()"
   ]
  },
  {
   "cell_type": "markdown",
   "metadata": {},
   "source": [
    "## deal with the imbalanced case "
   ]
  },
  {
   "cell_type": "code",
   "execution_count": 20,
   "metadata": {},
   "outputs": [
    {
     "data": {
      "image/png": "[encoded data removed]",
      "text/plain": [
       "<Figure size 640x480 with 1 Axes>"
      ]
     },
     "metadata": {},
     "output_type": "display_data"
    },
    {
     "data": {
      "text/plain": [
       "<ggplot: (8790551327245)>"
      ]
     },
     "execution_count": 20,
     "metadata": {},
     "output_type": "execute_result"
    }
   ],
   "source": [
    "#compare the converted(1) and nonconverted(0)\n",
    "df = df.astype({'converted':object})\n",
    "ggplot(df,aes(x = 'converted'))+geom_bar()\n"
   ]
  },
  {
   "cell_type": "code",
   "execution_count": 21,
   "metadata": {},
   "outputs": [
    {
     "name": "stdout",
     "output_type": "stream",
     "text": [
      "converted    0.032252\n",
      "dtype: float64\n"
     ]
    }
   ],
   "source": [
    "df = df.astype({'converted':int})\n",
    "print(df[['converted']].mean())"
   ]
  },
  {
   "cell_type": "markdown",
   "metadata": {},
   "source": [
    "There are only 3% converted users in the dataset. The dataset is highly imbalanced. We may therefore use oversampling (SMOTE) to adjust the issue."
   ]
  },
  {
   "cell_type": "code",
   "execution_count": 22,
   "metadata": {},
   "outputs": [],
   "source": [
    "X_train, X_test, y_train, y_test = train_test_split(df_encode[df_encode.columns.difference(['converted'])], df_encode['converted'], test_size=0.33, random_state=42)"
   ]
  },
  {
   "cell_type": "code",
   "execution_count": 23,
   "metadata": {},
   "outputs": [],
   "source": [
    "sm = SMOTE(random_state=42)\n",
    "X_res, y_res = sm.fit_resample(X_train, y_train)"
   ]
  },
  {
   "cell_type": "code",
   "execution_count": 24,
   "metadata": {},
   "outputs": [],
   "source": [
    "X_train = X_train.append(X_res)\n",
    "y_train = y_train.append(y_res)"
   ]
  },
  {
   "cell_type": "markdown",
   "metadata": {},
   "source": [
    "## train a logistic regression model "
   ]
  },
  {
   "cell_type": "code",
   "execution_count": 25,
   "metadata": {},
   "outputs": [],
   "source": [
    "clf = make_pipeline(StandardScaler(),LogisticRegression(random_state=0)).fit(X_res, y_res)"
   ]
  },
  {
   "cell_type": "markdown",
   "metadata": {},
   "source": [
    "## usd roc-auc to evaluate the performace of logistic regression "
   ]
  },
  {
   "cell_type": "code",
   "execution_count": 26,
   "metadata": {},
   "outputs": [
    {
     "ename": "NameError",
     "evalue": "name 'fpr' is not defined",
     "output_type": "error",
     "traceback": [
      "\u001b[0;31m---------------------------------------------------------------------------\u001b[0m",
      "\u001b[0;31mNameError\u001b[0m                                 Traceback (most recent call last)",
      "\u001b[0;32m<ipython-input-26-82f68b2001ef>\u001b[0m in \u001b[0;36m<module>\u001b[0;34m\u001b[0m\n\u001b[1;32m      1\u001b[0m \u001b[0mplt\u001b[0m\u001b[0;34m.\u001b[0m\u001b[0mfigure\u001b[0m\u001b[0;34m(\u001b[0m\u001b[0;34m)\u001b[0m\u001b[0;34m\u001b[0m\u001b[0;34m\u001b[0m\u001b[0m\n\u001b[1;32m      2\u001b[0m \u001b[0mlogit_roc_auc\u001b[0m \u001b[0;34m=\u001b[0m \u001b[0mroc_auc_score\u001b[0m\u001b[0;34m(\u001b[0m\u001b[0my_test\u001b[0m\u001b[0;34m,\u001b[0m \u001b[0mclf\u001b[0m\u001b[0;34m.\u001b[0m\u001b[0mpredict\u001b[0m\u001b[0;34m(\u001b[0m\u001b[0mX_test\u001b[0m\u001b[0;34m)\u001b[0m\u001b[0;34m)\u001b[0m\u001b[0;34m\u001b[0m\u001b[0;34m\u001b[0m\u001b[0m\n\u001b[0;32m----> 3\u001b[0;31m \u001b[0mplt\u001b[0m\u001b[0;34m.\u001b[0m\u001b[0mplot\u001b[0m\u001b[0;34m(\u001b[0m\u001b[0mfpr\u001b[0m\u001b[0;34m,\u001b[0m \u001b[0mtpr\u001b[0m\u001b[0;34m,\u001b[0m \u001b[0mlabel\u001b[0m\u001b[0;34m=\u001b[0m\u001b[0;34m'Logistic Regression (area = %0.2f)'\u001b[0m \u001b[0;34m%\u001b[0m \u001b[0mlogit_roc_auc\u001b[0m\u001b[0;34m)\u001b[0m\u001b[0;34m\u001b[0m\u001b[0;34m\u001b[0m\u001b[0m\n\u001b[0m\u001b[1;32m      4\u001b[0m \u001b[0mplt\u001b[0m\u001b[0;34m.\u001b[0m\u001b[0mplot\u001b[0m\u001b[0;34m(\u001b[0m\u001b[0;34m[\u001b[0m\u001b[0;36m0\u001b[0m\u001b[0;34m,\u001b[0m \u001b[0;36m1\u001b[0m\u001b[0;34m]\u001b[0m\u001b[0;34m,\u001b[0m \u001b[0;34m[\u001b[0m\u001b[0;36m0\u001b[0m\u001b[0;34m,\u001b[0m \u001b[0;36m1\u001b[0m\u001b[0;34m]\u001b[0m\u001b[0;34m,\u001b[0m\u001b[0;34m'r--'\u001b[0m\u001b[0;34m)\u001b[0m\u001b[0;34m\u001b[0m\u001b[0;34m\u001b[0m\u001b[0m\n\u001b[1;32m      5\u001b[0m \u001b[0mplt\u001b[0m\u001b[0;34m.\u001b[0m\u001b[0mxlim\u001b[0m\u001b[0;34m(\u001b[0m\u001b[0;34m[\u001b[0m\u001b[0;36m0.0\u001b[0m\u001b[0;34m,\u001b[0m \u001b[0;36m1.0\u001b[0m\u001b[0;34m]\u001b[0m\u001b[0;34m)\u001b[0m\u001b[0;34m\u001b[0m\u001b[0;34m\u001b[0m\u001b[0m\n",
      "\u001b[0;31mNameError\u001b[0m: name 'fpr' is not defined"
     ]
    },
    {
     "data": {
      "text/plain": [
       "<Figure size 432x288 with 0 Axes>"
      ]
     },
     "metadata": {},
     "output_type": "display_data"
    }
   ],
   "source": [
    "plt.figure()\n",
    "logit_roc_auc = roc_auc_score(y_test, clf.predict(X_test))\n",
    "plt.plot(fpr, tpr, label='Logistic Regression (area = %0.2f)' % logit_roc_auc)\n",
    "plt.plot([0, 1], [0, 1],'r--')\n",
    "plt.xlim([0.0, 1.0])\n",
    "plt.ylim([0.0, 1.05])\n",
    "plt.xlabel('False Positive Rate')\n",
    "plt.ylabel('True Positive Rate')\n",
    "plt.title('Receiver operating characteristic')\n",
    "plt.legend(loc=\"lower right\")\n",
    "plt.savefig('Log_ROC')\n",
    "plt.show()"
   ]
  },
  {
   "cell_type": "code",
   "execution_count": 27,
   "metadata": {},
   "outputs": [
    {
     "name": "stdout",
     "output_type": "stream",
     "text": [
      "0.937861322875462\n",
      "(0.0, 0.0, 1.9999998281734126)\n",
      "(0.0, 0.01718420259270425, 0.9999945720465815)\n",
      "(0.0, 0.03316249623153452, 0.9999887196914822)\n",
      "(0.0, 0.05396442568586072, 0.9999737479681751)\n",
      "(0.0, 0.07084715104009648, 0.9999601253952431)\n",
      "(0.0, 0.08863430810973771, 0.9999419008439306)\n",
      "(0.0, 0.10853180584865843, 0.9999111587315154)\n",
      "(0.0, 0.12842930358757915, 0.9998683510311134)\n",
      "(9.89814805649863e-06, 0.14983418751884234, 0.9998019693494802)\n",
      "(1.979629611299726e-05, 0.170937594211637, 0.999731416015354)\n",
      "(2.969444416949589e-05, 0.18993066023515223, 0.9996437792820803)\n",
      "(3.959259222599452e-05, 0.20952668073560446, 0.9995454598403357)\n",
      "(5.938888833899178e-05, 0.23002713295146215, 0.9994305535902162)\n",
      "(5.938888833899178e-05, 0.2490201989749774, 0.9993006783444744)\n",
      "(8.908333250848766e-05, 0.2692191739523666, 0.9991407619647235)\n",
      "(0.00010887962862148492, 0.2894181489297558, 0.9988967954482356)\n",
      "(0.00012867592473448218, 0.31233041905336145, 0.9986426967307284)\n",
      "(0.00014847222084747943, 0.3355441664154356, 0.9984034958215531)\n",
      "(0.00014847222084747943, 0.3566475731082303, 0.9981340618762216)\n",
      "(0.00020786110918647122, 0.37473620741634006, 0.9977798277795551)\n",
      "(0.0002474537014124657, 0.3952366596321978, 0.9973889589318654)\n",
      "(0.00031674073780795615, 0.4187518842327404, 0.9968530086195299)\n",
      "(0.0004256203664294411, 0.43684051854085015, 0.9962995752565568)\n",
      "(0.0005938888833899177, 0.45975278866445585, 0.9956407449851876)\n",
      "(0.0007621574003503944, 0.47874585468797104, 0.9947201765601031)\n",
      "(0.0008710370289718793, 0.4977389207114863, 0.9937939961171005)\n",
      "(0.0009799166575933643, 0.515827555019596, 0.9926113716479922)\n",
      "(0.0011877777667798355, 0.5393427796201387, 0.9912217040327211)\n",
      "(0.0013956388759663067, 0.5631594814591498, 0.9896637311430347)\n",
      "(0.001603499985152778, 0.5821525474826651, 0.9880231311754679)\n",
      "(0.0017222777618307614, 0.6020500452215858, 0.986522877148411)\n",
      "(0.0019598333151867285, 0.6213445884835694, 0.9845976000950221)\n",
      "(0.002246879608825189, 0.6358154959300573, 0.9823607647976595)\n",
      "(0.0025240277544071503, 0.6499849261380766, 0.9803817543028118)\n",
      "(0.0029298518247235943, 0.6671691287307808, 0.9772901649770096)\n",
      "(0.003286185154757545, 0.6840518540850166, 0.9736875735810563)\n",
      "(0.0036425184847914955, 0.7000301477238469, 0.9699844946821264)\n",
      "(0.004157222183729424, 0.7090744648779017, 0.9668677196083404)\n",
      "(0.004632333290441358, 0.7217365088935785, 0.9628872803847468)\n",
      "(0.005255916618000772, 0.7340970756707869, 0.9581021364304572)\n",
      "(0.005859703649447189, 0.7464576424479952, 0.9520045320384255)\n",
      "(0.0066119629017410845, 0.7548990051251131, 0.9462379966556231)\n",
      "(0.007275138821526492, 0.7648477539945734, 0.9408300890028739)\n",
      "(0.007839333260746914, 0.7738920711486282, 0.9339673094651163)\n",
      "(0.008670777697492799, 0.7862526379258366, 0.9266337265919838)\n",
      "(0.009561611022577675, 0.793789568887549, 0.9185566995522177)\n",
      "(0.010571222124340536, 0.8025324088031354, 0.90994751467829)\n",
      "(0.011640222114442388, 0.8115767259571902, 0.8989655766680642)\n",
      "(0.012639935068148749, 0.8197166113958396, 0.8889268675228613)\n",
      "(0.013728731354363598, 0.8269520651190835, 0.8745661451867734)\n",
      "(0.014926407269199932, 0.8329816098884534, 0.8638464522619548)\n",
      "(0.015995407259301785, 0.8396141091347603, 0.8525063228511831)\n",
      "(0.017222777618307615, 0.8453421766656617, 0.8395784994202438)\n",
      "(0.018618416494273923, 0.8531805848658426, 0.8245059074663286)\n",
      "(0.019875481297449246, 0.8592101296352126, 0.811627444381125)\n",
      "(0.02115234239673757, 0.8658426288815194, 0.7982506775996604)\n",
      "(0.022488592384364885, 0.8706662646970154, 0.7813215480459318)\n",
      "(0.02440883310732562, 0.8751884232740428, 0.7602131291621145)\n",
      "(0.02619049975749537, 0.8794091046126018, 0.7450854092672451)\n",
      "(0.02867493491967653, 0.8854386493819717, 0.7249214421456639)\n",
      "(0.030436805273733283, 0.890563762435936, 0.7065349142839483)\n",
      "(0.03220857377584654, 0.893578534820621, 0.6882860334671944)\n",
      "(0.034029833018242285, 0.8984021706361169, 0.6692672377648783)\n",
      "(0.03646477744014095, 0.9017184202592704, 0.6483911944587933)\n",
      "(0.03863247186451415, 0.9071450105517034, 0.6290873140523843)\n",
      "(0.0404240366627404, 0.9104612601748568, 0.6100552563477024)\n",
      "(0.042651119975452595, 0.9155863732288212, 0.5910096788907535)\n",
      "(0.044739629215373805, 0.9182996683750377, 0.5739652646123077)\n",
      "(0.04664007364222154, 0.9210129635212542, 0.5567224046634212)\n",
      "(0.049015629175781214, 0.9237262586674706, 0.5365826389705025)\n",
      "(0.05113383285987192, 0.9267410310521556, 0.5169205536447722)\n",
      "(0.05364796246622257, 0.929454326198372, 0.49891404334133566)\n",
      "(0.05591463837116076, 0.9333735302984625, 0.4790964744700072)\n",
      "(0.05854754575418939, 0.9360868254446789, 0.46174461673378603)\n",
      "(0.061457601282799985, 0.9412119384986434, 0.4443567710822928)\n",
      "(0.06379356422413367, 0.9430208019294544, 0.42643401214641286)\n",
      "(0.0664165734591058, 0.9448296653602652, 0.41014611358301106)\n",
      "(0.06951469380078987, 0.9475429605064818, 0.3900664254292454)\n",
      "(0.07282067525166042, 0.9508592101296353, 0.37239111964700045)\n",
      "(0.07546348078274555, 0.9535725052758517, 0.3553565414875931)\n",
      "(0.07806669372160469, 0.9556828459451311, 0.33927953481404827)\n",
      "(0.08114501776717577, 0.9571902321374737, 0.3239131494851661)\n",
      "(0.08502509180532322, 0.9599035272836901, 0.3077231180067561)\n",
      "(0.08821229547951578, 0.9614109134760326, 0.2921792363859311)\n",
      "(0.0923893139593582, 0.9626168224299065, 0.2778802087093436)\n",
      "(0.09620999910916668, 0.9638227313837805, 0.26581133631726483)\n",
      "(0.0996941472250542, 0.964124208622249, 0.2524406469392944)\n",
      "(0.10359401755931465, 0.965330117576123, 0.23978547289194246)\n",
      "(0.10712765641548466, 0.967138981006934, 0.22766285953630575)\n",
      "(0.11100773045363213, 0.967741935483871, 0.21678644972335304)\n",
      "(0.11434340634867217, 0.9683448899608079, 0.20772429133866135)\n",
      "(0.11788694335289868, 0.968947844437745, 0.19818291331212873)\n",
      "(0.12096526739846974, 0.969550798914682, 0.18929347592399984)\n",
      "(0.12568668402141958, 0.9722640940608984, 0.17888101691427322)\n",
      "(0.1299923784259965, 0.9731685257763039, 0.17005406466105533)\n",
      "(0.13417929505389542, 0.9746759119686463, 0.1622144569470996)\n",
      "(0.13800987835176037, 0.9755803436840519, 0.15466890778858203)\n",
      "(0.14193944313019033, 0.9761832981609888, 0.14611685776386962)\n",
      "(0.14633422086727574, 0.9764847753994573, 0.13758667649091832)\n",
      "(0.15150105415276802, 0.9770877298763944, 0.1317746202624582)\n",
      "(0.15689554484355978, 0.9788965933072054, 0.12343482728290012)\n",
      "(0.16081521147393324, 0.9798010250226108, 0.11703200907018861)\n",
      "(0.16510110958239713, 0.9807054567380162, 0.1110723752882433)\n",
      "(0.16917914658167457, 0.9810069339764848, 0.10626141572826873)\n",
      "(0.1740886280176979, 0.9813084112149533, 0.1004249205971535)\n",
      "(0.18000772055548406, 0.9822128429303587, 0.09442787687085714)\n",
      "(0.18471923903037743, 0.9837202291227012, 0.0891816729243285)\n",
      "(0.18928228528442329, 0.9846246608381067, 0.0846898944989741)\n",
      "(0.19519147967415296, 0.9861320470304492, 0.0800576773377171)\n",
      "(0.20080372962218768, 0.9873379559843232, 0.07590842224212019)\n",
      "(0.2052282018034426, 0.9879409104612602, 0.07219246219497957)\n",
      "(0.21044452582921735, 0.9882423876997287, 0.06846430393292648)\n",
      "(0.2157400350394441, 0.9888453421766656, 0.0649679853437168)\n",
      "(0.22013481277652952, 0.9891468194151342, 0.06200792284535101)\n",
      "(0.22561838679982976, 0.9894482966536027, 0.05879644303528742)\n",
      "(0.23171564600263292, 0.9900512511305396, 0.05574140618930247)\n",
      "(0.23562541448494986, 0.9900512511305396, 0.05310111437430426)\n",
      "(0.24149501628245354, 0.9900512511305396, 0.05041989084388522)\n",
      "(0.24727553474744876, 0.9903527283690081, 0.047688955647243514)\n",
      "(0.25105662730503125, 0.9903527283690081, 0.045496736508659326)\n",
      "(0.25670846984529194, 0.9909556828459452, 0.04318196901668096)\n",
      "(0.26367676607706697, 0.9924630690382876, 0.04065505527666714)\n",
      "(0.2707935345296895, 0.9924630690382876, 0.03859278725925785)\n",
      "(0.27670272891941916, 0.9927645462767561, 0.0364625732127081)\n",
      "(0.28184976590879846, 0.9942719324690986, 0.03454273527858652)\n",
      "(0.28922388621088996, 0.9942719324690986, 0.03290726292659451)\n",
      "(0.29555870096704906, 0.9948748869460355, 0.030960233682232323)\n",
      "(0.299706025002722, 0.9948748869460355, 0.02949832087300874)\n",
      "(0.3069217749359095, 0.9957793186614411, 0.02793453599648941)\n",
      "(0.3140484415365885, 0.9957793186614411, 0.02643802636202343)\n",
      "(0.31855209890229536, 0.9966837503768465, 0.025176275872509795)\n",
      "(0.32546100624573143, 0.996985227615315, 0.023831322903917557)\n",
      "(0.33239960803333696, 0.996985227615315, 0.02244620885100124)\n",
      "(0.3378831820566372, 0.9972867048537836, 0.021346018186915915)\n",
      "(0.3444753486622653, 0.9972867048537836, 0.02019513586539716)\n",
      "(0.3508101634184244, 0.9972867048537836, 0.019166942417710803)\n",
      "(0.3567886448445496, 0.9975881820922521, 0.018322231047596473)\n",
      "(0.36349958922685566, 0.9975881820922521, 0.017251655311034713)\n",
      "(0.37149729285650657, 0.9975881820922521, 0.016317842088148262)\n",
      "(0.3772184224331628, 0.9975881820922521, 0.015544186459554025)\n",
      "(0.38343445941264387, 0.9975881820922521, 0.014769625074276486)\n",
      "(0.39167961674370727, 0.998191136569189, 0.013975403977421058)\n",
      "(0.39899434815745977, 0.9984926138076575, 0.013165194484869344)\n",
      "(0.4057250888358788, 0.9984926138076575, 0.012498370767578214)\n",
      "(0.4123865424779024, 0.9984926138076575, 0.011842400473330746)\n",
      "(0.42000811648140635, 0.9984926138076575, 0.011255966113936667)\n",
      "(0.4253036256916331, 0.9984926138076575, 0.010714182943757386)\n",
      "(0.43278662562234604, 0.9984926138076575, 0.010200232145890172)\n",
      "(0.4402795237011155, 0.998794091046126, 0.009647403369185712)\n",
      "(0.4466737273456136, 0.998794091046126, 0.009178847390914006)\n",
      "(0.45438438468162606, 0.998794091046126, 0.008683163703617427)\n",
      "(0.46340159756109633, 0.998794091046126, 0.008211874344610508)\n",
      "(0.4698056993536509, 0.998794091046126, 0.007812489272746222)\n",
      "(0.47754605113383286, 0.998794091046126, 0.0073569025498911155)\n",
      "(0.4864444862366251, 0.998794091046126, 0.007005074251294575)\n",
      "(0.49284858802917975, 0.998794091046126, 0.00664816173262733)\n",
      "(0.4991735046372824, 0.998794091046126, 0.006288274876395287)\n",
      "(0.5081016341842441, 0.9990955682845946, 0.005960356234896667)\n",
      "(0.5149412544912847, 0.9990955682845946, 0.0056342246672699495)\n",
      "(0.5211770877668788, 0.999397045523063, 0.005315921737854978)\n",
      "(0.5302041987944056, 0.999397045523063, 0.005056984120823632)\n",
      "(0.537380356135367, 0.999397045523063, 0.004781560778106106)\n",
      "(0.5437646616318087, 0.999397045523063, 0.004498546530909695)\n",
      "(0.5521780874798325, 0.999397045523063, 0.00422686577528725)\n",
      "(0.5622049114610657, 0.999397045523063, 0.003968342294194678)\n",
      "(0.570469865088242, 0.999397045523063, 0.0037597509013440047)\n",
      "(0.5776262261330904, 0.999397045523063, 0.003545133360307336)\n",
      "(0.5852873927288205, 0.999397045523063, 0.003335056373386685)\n",
      "(0.5934731611715448, 0.999397045523063, 0.0031521172798416727)\n",
      "(0.6004414574033199, 0.999397045523063, 0.0029791830171367406)\n",
      "(0.6087559017707787, 0.999397045523063, 0.0027801616710036174)\n",
      "(0.6163180868859437, 0.999397045523063, 0.002599775870216882)\n",
      "(0.6251868275445664, 0.999397045523063, 0.002439748786039684)\n",
      "(0.6338576052420593, 0.9996985227615315, 0.002306539967346659)\n",
      "(0.6407368181413258, 1.0, 0.0021568177968524084)\n",
      "(0.6489621791762761, 1.0, 0.0020228242624055837)\n",
      "(0.6567817161409101, 1.0, 0.0018996711089646111)\n",
      "(0.664720030882222, 1.0, 0.0017869258232339387)\n",
      "(0.6738065307980877, 1.0, 0.0016674188255643189)\n",
      "(0.6819626047966425, 1.0, 0.0015753093282851948)\n",
      "(0.6885943639944966, 1.0, 0.001473451541541147)\n",
      "(0.6953943917093112, 1.0, 0.0013918808893602455)\n",
      "(0.7051737619891318, 1.0, 0.0012972603181982058)\n",
      "(0.7137158637618901, 1.0, 0.0012047948357496075)\n",
      "(0.7228617525660949, 1.0, 0.0011182613931234587)\n",
      "(0.7306515950865593, 1.0, 0.0010430948277771817)\n",
      "(0.7394708450048996, 1.0, 0.0009679175456838463)\n",
      "(0.7480030486296014, 1.0, 0.0008948483735901282)\n",
      "(0.7566045392906987, 1.0, 0.000822818850862439)\n",
      "(0.7646418355125756, 1.0, 0.0007586361407998821)\n",
      "(0.7725009650694356, 1.0, 0.0006996791858937204)\n",
      "(0.7798255946312445, 1.0, 0.0006466405396137752)\n",
      "(0.7875461501153134, 1.0, 0.0005945782569029879)\n",
      "(0.7947816963446139, 1.0, 0.0005418598213977117)\n",
      "(0.801848974056954, 1.0, 0.0004959797297340658)\n",
      "(0.808658899919825, 1.0, 0.00045257484847429746)\n",
      "(0.8166467054014194, 1.0, 0.0004113253029723734)\n",
      "(0.8249512516208217, 1.0, 0.00036762686443722473)\n",
      "(0.830652584901365, 1.0, 0.000330678995556204)\n",
      "(0.8369379089172416, 1.0, 0.00030076260805244974)\n",
      "(0.8440051866295816, 1.0, 0.00026849636861374593)\n",
      "(0.8502410199051758, 1.0, 0.00023569822086762403)\n",
      "(0.8566451216977303, 1.0, 0.00021041071207579488)\n",
      "(0.8630195290461155, 1.0, 0.00018707464046833306)\n",
      "(0.8687307604747152, 1.0, 0.00016416860411115036)\n",
      "(0.8747389363450099, 1.0, 0.00014474521218521726)\n",
      "(0.8807669085114175, 1.0, 0.0001260650779865032)\n",
      "(0.8862702788308308, 1.0, 0.00010935053489991936)\n",
      "(0.8927238713636678, 1.0, 9.526818864060204e-05)\n",
      "(0.898840926862584, 1.0, 8.396921180018184e-05)\n",
      "(0.9057102416137941, 1.0, 7.23102126318062e-05)\n",
      "(0.9129853804353205, 1.0, 5.87589713759231e-05)\n",
      "(0.9202704174049036, 1.0, 4.936676633051735e-05)\n",
      "(0.928099852517594, 1.0, 4.0937664123801015e-05)\n",
      "(0.9370972691009513, 1.0, 3.288128915236902e-05)\n",
      "(0.9461144819804215, 1.0, 2.5432237411939713e-05)\n",
      "(0.9557651763355076, 1.0, 1.9556925435015157e-05)\n",
      "(0.9630799077492601, 1.0, 1.5436574163697234e-05)\n",
      "(0.9723346761820864, 1.0, 1.1716402930152059e-05)\n",
      "(0.9810747409159746, 1.0, 8.354676832320652e-06)\n",
      "(0.9883795741816707, 1.0, 5.966091478576284e-06)\n",
      "(0.9958229815201576, 1.0, 3.377542531281457e-06)\n",
      "(0.9993170277841016, 1.0, 1.6658360017487386e-06)\n"
     ]
    },
    {
     "data": {
      "image/png": "[encoded data removed]",
      "text/plain": [
       "<Figure size 432x288 with 1 Axes>"
      ]
     },
     "metadata": {
      "needs_background": "light"
     },
     "output_type": "display_data"
    }
   ],
   "source": [
    "plt.figure()\n",
    "logit_roc_auc = roc_auc_score(y_test, clf.predict(X_test))\n",
    "print(logit_roc_auc)\n",
    "\n",
    "#plot the ROC curve \n",
    "fpr, tpr, thresholds = roc_curve(y_test, clf.predict_proba(X_test)[:,1])\n",
    "for i,row in enumerate(zip(fpr,tpr,thresholds)):\n",
    "    if i%20==0:\n",
    "        print(row)\n",
    "plt.plot(fpr, tpr, label='Logistic Regression (area = %0.2f)' % logit_roc_auc)\n",
    "plt.plot([0, 1], [0, 1],'r--')\n",
    "plt.xlim([0.0, 1.0])\n",
    "plt.ylim([0.0, 1.05])\n",
    "plt.xlabel('False Positive Rate')\n",
    "plt.ylabel('True Positive Rate')\n",
    "plt.title('Receiver operating characteristic')\n",
    "plt.legend(loc=\"lower right\")\n",
    "plt.savefig('Log_ROC')\n",
    "plt.show()"
   ]
  },
  {
   "cell_type": "markdown",
   "metadata": {},
   "source": [
    "A 0.93 auc score is pretty good! "
   ]
  },
  {
   "cell_type": "markdown",
   "metadata": {},
   "source": [
    "## make prediciton on test dataset, decide the threshold through roc curve "
   ]
  },
  {
   "cell_type": "code",
   "execution_count": 31,
   "metadata": {},
   "outputs": [
    {
     "name": "stdout",
     "output_type": "stream",
     "text": [
      "              precision    recall  f1-score   support\n",
      "\n",
      "           0       0.99      0.99      0.99    101029\n",
      "           1       0.80      0.75      0.77      3317\n",
      "\n",
      "    accuracy                           0.99    104346\n",
      "   macro avg       0.90      0.87      0.88    104346\n",
      "weighted avg       0.99      0.99      0.99    104346\n",
      "\n"
     ]
    }
   ],
   "source": [
    "y_pred_proba = clf.predict_proba(X_test)[:,1]\n",
    "th = 0.95\n",
    "y_pred = [1 if i>=th else 0 for i in y_pred_proba]\n",
    "print(classification_report(y_test, y_pred))\n"
   ]
  },
  {
   "cell_type": "code",
   "execution_count": 29,
   "metadata": {},
   "outputs": [
    {
     "name": "stdout",
     "output_type": "stream",
     "text": [
      "Feature age, Score: -0.64433\n",
      "Feature country_China, Score: -4.55843\n",
      "Feature country_Germany, Score: -2.02737\n",
      "Feature country_UK, Score: -3.58209\n",
      "Feature country_US, Score: -4.51224\n",
      "Feature new_user, Score: -0.94269\n",
      "Feature total_pages_visited, Score: 4.72514\n"
     ]
    },
    {
     "data": {
      "image/png": "[encoded data removed]",
      "text/plain": [
       "<Figure size 432x288 with 1 Axes>"
      ]
     },
     "metadata": {
      "needs_background": "light"
     },
     "output_type": "display_data"
    }
   ],
   "source": [
    "importance = clf.steps[1][1].coef_[0]\n",
    "# summarize feature importance\n",
    "for i,v in enumerate(importance):\n",
    "    print('Feature %0s, Score: %.5f' % (df_encode.columns.difference(['converted'])[i],v))\n",
    "# plot feature importance\n",
    "plt.bar([x for x in range(len(importance))], importance)\n",
    "plt.show()"
   ]
  },
  {
   "cell_type": "markdown",
   "metadata": {},
   "source": [
    "## recommendation for increase conversion rate\n",
    "For the coefficients of logistic regression, heavily deviation away from 0 reflects the importance of the feature in conversion rate. Based on the results, the one with largest deviation is total_page_visited. The page_visit measures the time spent on each session and reflects user engagement. At the same time, the new users group has a lower conversion rate than old user group, which agrees with the conclusion we reached above. It suggests that the priority of product team is to booost user's retention rate and engagement.\n",
    "\n",
    "On the other hand, the users from UK,US and Germany all have much higher conversion rate than those from China. One possible interpretation is that the language used on website is English only thus made it less attractive to users whose native language is not English. It can also because the culture difference in Asian and European country/US regions. It is thus strongly recommended that the UI could be modified for countries with different culture background. \n",
    "\n",
    "The third suggestion is that since the age of users do negatively affect the conversion rate a lot, it is possible that the webpage design targets teenagers and young people more than adults. Therefore the UI design can be improved to attract the interest of different age groups. \n"
   ]
  },
  {
   "cell_type": "code",
   "execution_count": null,
   "metadata": {},
   "outputs": [],
   "source": []
  },
  {
   "cell_type": "code",
   "execution_count": null,
   "metadata": {},
   "outputs": [],
   "source": []
  }
 ],
 "metadata": {
  "kernelspec": {
   "display_name": "Python 3",
   "language": "python",
   "name": "python3"
  },
  "language_info": {
   "codemirror_mode": {
    "name": "ipython",
    "version": 3
   },
   "file_extension": ".py",
   "mimetype": "text/x-python",
   "name": "python",
   "nbconvert_exporter": "python",
   "pygments_lexer": "ipython3",
   "version": "3.7.6"
  }
 },
 "nbformat": 4,
 "nbformat_minor": 4
}
